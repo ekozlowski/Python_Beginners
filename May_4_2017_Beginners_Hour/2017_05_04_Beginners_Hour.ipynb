{
 "cells": [
  {
   "cell_type": "code",
   "execution_count": 3,
   "metadata": {
    "collapsed": false
   },
   "outputs": [
    {
     "name": "stdout",
     "output_type": "stream",
     "text": [
      "E\n",
      "d\n"
     ]
    }
   ],
   "source": [
    "# Iterable\n",
    "\n",
    "name = \"Ed\"\n",
    "\n",
    "for i in name:\n",
    "    print(i)\n"
   ]
  },
  {
   "cell_type": "code",
   "execution_count": 4,
   "metadata": {
    "collapsed": false
   },
   "outputs": [
    {
     "name": "stdout",
     "output_type": "stream",
     "text": [
      "Alisa\n",
      "Ed\n",
      "Evan\n",
      "Ann'adele\n"
     ]
    }
   ],
   "source": [
    "# More iterables\n",
    "\n",
    "# Lists\n",
    "\n",
    "names = ['Alisa', 'Ed', 'Evan', 'Ann\\'adele']\n",
    "\n",
    "for name in names:\n",
    "    print(name)"
   ]
  },
  {
   "cell_type": "code",
   "execution_count": 9,
   "metadata": {
    "collapsed": false
   },
   "outputs": [
    {
     "name": "stdout",
     "output_type": "stream",
     "text": [
      "{'Alisa': 29, 'Ed': 39, 'Evan': 11, \"Ann'adele\": 8}\n",
      "Alisa\n",
      "Ed\n",
      "Evan\n",
      "Ann'adele\n",
      "29\n",
      "39\n",
      "11\n",
      "8\n",
      "dict_values([29, 39, 11, 8])\n"
     ]
    }
   ],
   "source": [
    "# Dictionaries\n",
    "\n",
    "ages = [29, 39, 11, 8]\n",
    "\n",
    "my_dict = dict(zip(names, ages))\n",
    "\n",
    "print(my_dict)\n",
    "\n",
    "for name in my_dict:\n",
    "    print(name)\n",
    "    \n",
    "for age in my_dict.values():\n",
    "    print(age)\n",
    "    \n",
    "print(repr(my_dict.values()))"
   ]
  },
  {
   "cell_type": "code",
   "execution_count": 16,
   "metadata": {
    "collapsed": false
   },
   "outputs": [
    {
     "name": "stdout",
     "output_type": "stream",
     "text": [
      "Help on dict object:\n",
      "\n",
      "class dict(object)\n",
      " |  dict() -> new empty dictionary\n",
      " |  dict(mapping) -> new dictionary initialized from a mapping object's\n",
      " |      (key, value) pairs\n",
      " |  dict(iterable) -> new dictionary initialized as if via:\n",
      " |      d = {}\n",
      " |      for k, v in iterable:\n",
      " |          d[k] = v\n",
      " |  dict(**kwargs) -> new dictionary initialized with the name=value pairs\n",
      " |      in the keyword argument list.  For example:  dict(one=1, two=2)\n",
      " |  \n",
      " |  Methods defined here:\n",
      " |  \n",
      " |  __contains__(self, key, /)\n",
      " |      True if D has a key k, else False.\n",
      " |  \n",
      " |  __delitem__(self, key, /)\n",
      " |      Delete self[key].\n",
      " |  \n",
      " |  __eq__(self, value, /)\n",
      " |      Return self==value.\n",
      " |  \n",
      " |  __ge__(self, value, /)\n",
      " |      Return self>=value.\n",
      " |  \n",
      " |  __getattribute__(self, name, /)\n",
      " |      Return getattr(self, name).\n",
      " |  \n",
      " |  __getitem__(...)\n",
      " |      x.__getitem__(y) <==> x[y]\n",
      " |  \n",
      " |  __gt__(self, value, /)\n",
      " |      Return self>value.\n",
      " |  \n",
      " |  __init__(self, /, *args, **kwargs)\n",
      " |      Initialize self.  See help(type(self)) for accurate signature.\n",
      " |  \n",
      " |  __iter__(self, /)\n",
      " |      Implement iter(self).\n",
      " |  \n",
      " |  __le__(self, value, /)\n",
      " |      Return self<=value.\n",
      " |  \n",
      " |  __len__(self, /)\n",
      " |      Return len(self).\n",
      " |  \n",
      " |  __lt__(self, value, /)\n",
      " |      Return self<value.\n",
      " |  \n",
      " |  __ne__(self, value, /)\n",
      " |      Return self!=value.\n",
      " |  \n",
      " |  __new__(*args, **kwargs) from builtins.type\n",
      " |      Create and return a new object.  See help(type) for accurate signature.\n",
      " |  \n",
      " |  __repr__(self, /)\n",
      " |      Return repr(self).\n",
      " |  \n",
      " |  __setitem__(self, key, value, /)\n",
      " |      Set self[key] to value.\n",
      " |  \n",
      " |  __sizeof__(...)\n",
      " |      D.__sizeof__() -> size of D in memory, in bytes\n",
      " |  \n",
      " |  clear(...)\n",
      " |      D.clear() -> None.  Remove all items from D.\n",
      " |  \n",
      " |  copy(...)\n",
      " |      D.copy() -> a shallow copy of D\n",
      " |  \n",
      " |  fromkeys(iterable, value=None, /) from builtins.type\n",
      " |      Returns a new dict with keys from iterable and values equal to value.\n",
      " |  \n",
      " |  get(...)\n",
      " |      D.get(k[,d]) -> D[k] if k in D, else d.  d defaults to None.\n",
      " |  \n",
      " |  items(...)\n",
      " |      D.items() -> a set-like object providing a view on D's items\n",
      " |  \n",
      " |  keys(...)\n",
      " |      D.keys() -> a set-like object providing a view on D's keys\n",
      " |  \n",
      " |  pop(...)\n",
      " |      D.pop(k[,d]) -> v, remove specified key and return the corresponding value.\n",
      " |      If key is not found, d is returned if given, otherwise KeyError is raised\n",
      " |  \n",
      " |  popitem(...)\n",
      " |      D.popitem() -> (k, v), remove and return some (key, value) pair as a\n",
      " |      2-tuple; but raise KeyError if D is empty.\n",
      " |  \n",
      " |  setdefault(...)\n",
      " |      D.setdefault(k[,d]) -> D.get(k,d), also set D[k]=d if k not in D\n",
      " |  \n",
      " |  update(...)\n",
      " |      D.update([E, ]**F) -> None.  Update D from dict/iterable E and F.\n",
      " |      If E is present and has a .keys() method, then does:  for k in E: D[k] = E[k]\n",
      " |      If E is present and lacks a .keys() method, then does:  for k, v in E: D[k] = v\n",
      " |      In either case, this is followed by: for k in F:  D[k] = F[k]\n",
      " |  \n",
      " |  values(...)\n",
      " |      D.values() -> an object providing a view on D's values\n",
      " |  \n",
      " |  ----------------------------------------------------------------------\n",
      " |  Data and other attributes defined here:\n",
      " |  \n",
      " |  __hash__ = None\n",
      "\n"
     ]
    }
   ],
   "source": [
    "help(my_dict)\n"
   ]
  },
  {
   "cell_type": "code",
   "execution_count": 26,
   "metadata": {
    "collapsed": false
   },
   "outputs": [
    {
     "name": "stdout",
     "output_type": "stream",
     "text": [
      "[\"Ann'adele\", 'Alisa', 'Evan', 'Ed']\n",
      "[\"Ann'adele\", 'Alisa', 'Evan', 'Ed']\n",
      "['__add__', '__class__', '__contains__', '__delattr__', '__delitem__', '__dir__', '__doc__', '__eq__', '__format__', '__ge__', '__getattribute__', '__getitem__', '__gt__', '__hash__', '__iadd__', '__imul__', '__init__', '__init_subclass__', '__iter__', '__le__', '__len__', '__lt__', '__mul__', '__ne__', '__new__', '__reduce__', '__reduce_ex__', '__repr__', '__reversed__', '__rmul__', '__setattr__', '__setitem__', '__sizeof__', '__str__', '__subclasshook__', 'append', 'clear', 'copy', 'count', 'extend', 'index', 'insert', 'pop', 'remove', 'reverse', 'sort']\n"
     ]
    }
   ],
   "source": [
    "names.sort(reverse=True, key=len)  # In place sort of names\n",
    "\n",
    "print(names)\n",
    "\n",
    "def my_func(names):\n",
    "    tuples = [(len(x), x) for x in names]  # <-- Decorate\n",
    "    tuples.sort(reverse=True)                          # <-- sort\n",
    "    return [x[1] for x in tuples]          # <-- Undecorate\n",
    "\n",
    "print(my_func(names))\n",
    "\n",
    "print(dir(names))"
   ]
  },
  {
   "cell_type": "code",
   "execution_count": 28,
   "metadata": {
    "collapsed": false
   },
   "outputs": [
    {
     "name": "stdout",
     "output_type": "stream",
     "text": [
      "Ed\n",
      "Alisa\n",
      "Evan\n"
     ]
    }
   ],
   "source": [
    "class People:\n",
    "    \n",
    "    def __init__(self, people=None):\n",
    "        if people is None:\n",
    "            people = []\n",
    "        self.people = people\n",
    "    \n",
    "    def __iter__(self):\n",
    "        return iter(self.people)\n",
    "    \n",
    "people_obj = People(people=['Ed', 'Alisa', 'Evan'])\n",
    "\n",
    "for person in people_obj:\n",
    "    print(person)\n",
    "    \n",
    "# for x in y:\n",
    "# person = people_obj.next()\n",
    "# while(person):\n",
    "#     print(person)"
   ]
  },
  {
   "cell_type": "code",
   "execution_count": 29,
   "metadata": {
    "collapsed": false
   },
   "outputs": [
    {
     "name": "stdout",
     "output_type": "stream",
     "text": [
      "Help on built-in function iter in module builtins:\n",
      "\n",
      "iter(...)\n",
      "    iter(iterable) -> iterator\n",
      "    iter(callable, sentinel) -> iterator\n",
      "    \n",
      "    Get an iterator from an object.  In the first form, the argument must\n",
      "    supply its own iterator, or be a sequence.\n",
      "    In the second form, the callable is called until it returns the sentinel.\n",
      "\n"
     ]
    }
   ],
   "source": [
    "help(iter)"
   ]
  },
  {
   "cell_type": "code",
   "execution_count": 44,
   "metadata": {
    "collapsed": false
   },
   "outputs": [
    {
     "name": "stdout",
     "output_type": "stream",
     "text": [
      "Ed\n",
      "Alisa\n",
      "Evan\n",
      "Ed\n",
      "Alisa\n",
      "Evan\n",
      "Ed\n",
      "Alisa\n",
      "Evan\n",
      "Ed\n",
      "Alisa\n",
      "Evan\n"
     ]
    }
   ],
   "source": [
    "my_iterator = iter(people_obj)\n",
    "while True:\n",
    "    try:\n",
    "        my_obj = next(my_iterator)\n",
    "        print(my_obj)\n",
    "    except StopIteration:\n",
    "        break\n",
    "\n",
    "my_iterator = iter(people_obj)\n",
    "for my_obj in my_iterator:\n",
    "    print(my_obj)\n",
    "\n",
    "for my_obj in people_obj:\n",
    "    print(my_obj)\n",
    "\n",
    "\n",
    "for my_obj in people_obj:\n",
    "    print(my_obj)"
   ]
  },
  {
   "cell_type": "code",
   "execution_count": 49,
   "metadata": {
    "collapsed": true
   },
   "outputs": [],
   "source": [
    "people = ['a','b','c','d']\n",
    "def get_person():\n",
    "    for p in people:\n",
    "        yield p\n"
   ]
  },
  {
   "cell_type": "code",
   "execution_count": 51,
   "metadata": {
    "collapsed": false
   },
   "outputs": [
    {
     "name": "stdout",
     "output_type": "stream",
     "text": [
      "<generator object get_person at 0x110908ba0>\n"
     ]
    }
   ],
   "source": [
    "my_generator = get_person()\n",
    "\n",
    "print(my_generator)"
   ]
  },
  {
   "cell_type": "code",
   "execution_count": 52,
   "metadata": {
    "collapsed": false
   },
   "outputs": [
    {
     "name": "stdout",
     "output_type": "stream",
     "text": [
      "a\n"
     ]
    }
   ],
   "source": [
    "print(next(my_generator))\n"
   ]
  },
  {
   "cell_type": "code",
   "execution_count": 56,
   "metadata": {
    "collapsed": false
   },
   "outputs": [
    {
     "ename": "StopIteration",
     "evalue": "",
     "output_type": "error",
     "traceback": [
      "\u001b[0;31m---------------------------------------------------------------------------\u001b[0m",
      "\u001b[0;31mStopIteration\u001b[0m                             Traceback (most recent call last)",
      "\u001b[0;32m<ipython-input-56-6bf0d1c3f5b6>\u001b[0m in \u001b[0;36m<module>\u001b[0;34m()\u001b[0m\n\u001b[0;32m----> 1\u001b[0;31m \u001b[0mprint\u001b[0m\u001b[0;34m(\u001b[0m\u001b[0mnext\u001b[0m\u001b[0;34m(\u001b[0m\u001b[0mmy_generator\u001b[0m\u001b[0;34m)\u001b[0m\u001b[0;34m)\u001b[0m\u001b[0;34m\u001b[0m\u001b[0m\n\u001b[0m",
      "\u001b[0;31mStopIteration\u001b[0m: "
     ]
    }
   ],
   "source": [
    "print(next(my_generator))"
   ]
  },
  {
   "cell_type": "code",
   "execution_count": 57,
   "metadata": {
    "collapsed": false
   },
   "outputs": [
    {
     "name": "stdout",
     "output_type": "stream",
     "text": [
      "a\n",
      "b\n",
      "c\n",
      "d\n"
     ]
    }
   ],
   "source": [
    "for x in get_person():  # construct a generator, and iterate over it :)\n",
    "    print(x)"
   ]
  },
  {
   "cell_type": "code",
   "execution_count": 78,
   "metadata": {
    "collapsed": false
   },
   "outputs": [
    {
     "name": "stdout",
     "output_type": "stream",
     "text": [
      "Yielding 0\n",
      "0\n",
      "Yielding new value\n",
      "248\n",
      "Yielding 0\n",
      "0\n",
      "Yielding new value\n",
      "98\n",
      "Yielding 0\n",
      "0\n",
      "Yielding new value\n",
      "278\n",
      "Yielding 0\n",
      "0\n",
      "Yielding new value\n",
      "78\n",
      "Yielding 0\n",
      "0\n",
      "Yielding new value\n",
      "496\n",
      "Yielding 0\n",
      "0\n",
      "Yielding new value\n",
      "76\n",
      "Yielding 0\n",
      "0\n",
      "Yielding new value\n",
      "456\n",
      "Yielding 0\n",
      "0\n",
      "Yielding new value\n",
      "184\n",
      "Yielding 0\n",
      "0\n",
      "Yielding new value\n",
      "219\n",
      "Yielding 0\n",
      "0\n",
      "Yielding new value\n",
      "52\n",
      "Yielding 0\n",
      "0\n",
      "Yielding new value\n",
      "219\n",
      "Yielding 0\n",
      "0\n",
      "Yielding new value\n",
      "13\n",
      "Yielding 0\n",
      "0\n",
      "Yielding new value\n",
      "202\n",
      "Yielding 0\n",
      "0\n",
      "Yielding new value\n",
      "29\n",
      "Yielding 0\n",
      "0\n",
      "Yielding new value\n",
      "235\n",
      "Yielding 0\n",
      "0\n",
      "Yielding new value\n",
      "480\n",
      "Yielding 0\n",
      "0\n",
      "Yielding new value\n",
      "24\n",
      "Yielding 0\n",
      "0\n",
      "Yielding new value\n",
      "310\n",
      "Yielding 0\n",
      "0\n",
      "Yielding new value\n",
      "407\n",
      "Yielding 0\n",
      "0\n",
      "Yielding new value\n",
      "8\n",
      "Yielding 0\n",
      "0\n",
      "Yielding new value\n",
      "286\n",
      "Yielding 0\n",
      "0\n",
      "Yielding new value\n",
      "130\n",
      "Yielding 0\n",
      "0\n",
      "Yielding new value\n",
      "390\n",
      "Yielding 0\n",
      "0\n",
      "Yielding new value\n",
      "418\n",
      "Yielding 0\n",
      "0\n",
      "Yielding new value\n",
      "413\n"
     ]
    }
   ],
   "source": [
    "import random\n",
    "def get_int(n):\n",
    "    last_value = 0\n",
    "    while True:\n",
    "        new_value = random.randint(1, n)\n",
    "        print(\"Yielding 0\")\n",
    "        yield 0\n",
    "        last_value = new_value\n",
    "        print(\"Yielding new value\")\n",
    "        yield new_value\n",
    "        \n",
    "times = 50\n",
    "\n",
    "for x in get_int(500):\n",
    "    print(x)\n",
    "    times -= 1\n",
    "    if times == 0:\n",
    "        break"
   ]
  },
  {
   "cell_type": "code",
   "execution_count": null,
   "metadata": {
    "collapsed": true
   },
   "outputs": [],
   "source": [
    "def forward_for_processing(filename='./some_file.txt'):\n",
    "    my_file = open(filename, 'r')\n",
    "    line = my_file.readline()\n",
    "    while line:\n",
    "        yield line\n",
    "        line = my_file.readline()"
   ]
  }
 ],
 "metadata": {
  "kernelspec": {
   "display_name": "Python 3",
   "language": "python",
   "name": "python3"
  },
  "language_info": {
   "codemirror_mode": {
    "name": "ipython",
    "version": 3
   },
   "file_extension": ".py",
   "mimetype": "text/x-python",
   "name": "python",
   "nbconvert_exporter": "python",
   "pygments_lexer": "ipython3",
   "version": "3.6.0"
  }
 },
 "nbformat": 4,
 "nbformat_minor": 2
}
