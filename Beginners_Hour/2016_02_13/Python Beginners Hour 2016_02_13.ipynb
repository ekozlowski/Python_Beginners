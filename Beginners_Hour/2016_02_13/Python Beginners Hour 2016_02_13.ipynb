{
 "cells": [
  {
   "cell_type": "markdown",
   "metadata": {},
   "source": [
    "DFW Pythoneers Beginners Hour - 2/13/2016\n",
    "=========================================\n",
    "\n",
    "Topics We'll Cover Today\n",
    "------------------------\n",
    "\n",
    "- How this Demo is structured (I'm in Jupyter, or IPython Notebook)\n",
    "- How future \"Beginners Hours\" will be structured\n",
    "- Basic Code (Hello World!)\n",
    "- Variables and Types\n",
    "- Lists\n"
   ]
  },
  {
   "cell_type": "markdown",
   "metadata": {},
   "source": [
    "# How This Demo Is Structured"
   ]
  },
  {
   "cell_type": "markdown",
   "metadata": {},
   "source": [
    "This is NOT typical Python.  We do not write Python in the browser.  (typically...)\n",
    "\n",
    "Python code is typically written in a text editor, and saved to a file with a \\*.py extension.  Python files do not have to be named with a \\*.py extension.\n",
    "\n",
    "What are .py files?\n",
    ".pyc?\n",
    ".pyo?\n",
    "\n",
    "(From http://stackoverflow.com/questions/8822335/what-do-the-python-file-extensions-pyc-pyd-pyo-stand-for)\n",
    "\n",
    "- .py: This is normally the input source code that you've written.\n",
    "- .pyc: This is the compiled bytecode. If you import a module, python will build a *.pyc file that contains the bytecode to make importing it again later easier (and faster).\n",
    "- .pyo: This is a *.pyc file that was created while optimizations (-O) was on.\n",
    "- .pyd: This is basically a windows dll file."
   ]
  },
  {
   "cell_type": "markdown",
   "metadata": {},
   "source": [
    "# Basic Code  \"Hello Python World!\""
   ]
  },
  {
   "cell_type": "code",
   "execution_count": null,
   "metadata": {
    "collapsed": false
   },
   "outputs": [],
   "source": [
    "print(\"Hello Python Beginners Hour! Modify\")"
   ]
  },
  {
   "cell_type": "markdown",
   "metadata": {},
   "source": [
    "The following snippet works in Python 2, but will not work in Python 3.  What do we get if we run it in Python 3?"
   ]
  },
  {
   "cell_type": "code",
   "execution_count": null,
   "metadata": {
    "collapsed": false
   },
   "outputs": [],
   "source": [
    "print \"Hello World!\""
   ]
  },
  {
   "cell_type": "markdown",
   "metadata": {},
   "source": [
    "# Variables And Types"
   ]
  },
  {
   "cell_type": "code",
   "execution_count": null,
   "metadata": {
    "collapsed": false
   },
   "outputs": [],
   "source": [
    "age = 38  # Integer\n",
    "\n",
    "pi = 3.141529 # float\n",
    "\n",
    "also_a_float = float(7)\n",
    "\n",
    "name = \"Ed\"  # String\n",
    "\n",
    "also_a_string = \"\"\"This is a string too!\n",
    "testing\n",
    "    does this indent\n",
    "seperate lines?\n",
    "\"\"\"\n",
    "\n",
    "also_another_string = 'So is this!'\n",
    "\n",
    "why_so_many_strings = \"\"\"So 'you' can \"do\" 'fun' things like 'this'!\"\"\"\n",
    "print(why_so_many_strings)\n",
    "print(also_a_string)"
   ]
  },
  {
   "cell_type": "code",
   "execution_count": 2,
   "metadata": {
    "collapsed": false
   },
   "outputs": [
    {
     "name": "stdout",
     "output_type": "stream",
     "text": [
      "My name is Ed and I'm 38 years old.\n"
     ]
    }
   ],
   "source": [
    "# Tuples\n",
    "name, age = ('Ed', 38)\n",
    "another_tuple = ('this', 1, {'dict': 'value'})\n",
    "print(\"My name is {} and I'm {} years old.\".format(name, age))"
   ]
  },
  {
   "cell_type": "code",
   "execution_count": 3,
   "metadata": {
    "collapsed": false
   },
   "outputs": [
    {
     "name": "stdout",
     "output_type": "stream",
     "text": [
      "Ed\n",
      "38\n"
     ]
    }
   ],
   "source": [
    "# Tuples are \"immutable\"... That means you can't change them once they are set.\n",
    "my_tuple = ('Ed', 38)\n",
    "print(my_tuple[0])\n",
    "print(my_tuple[1])"
   ]
  },
  {
   "cell_type": "code",
   "execution_count": 4,
   "metadata": {
    "collapsed": false
   },
   "outputs": [
    {
     "ename": "TypeError",
     "evalue": "'tuple' object does not support item assignment",
     "output_type": "error",
     "traceback": [
      "\u001b[0;31m---------------------------------------------------------------------------\u001b[0m",
      "\u001b[0;31mTypeError\u001b[0m                                 Traceback (most recent call last)",
      "\u001b[0;32m<ipython-input-4-1b4d86d79b79>\u001b[0m in \u001b[0;36m<module>\u001b[0;34m()\u001b[0m\n\u001b[1;32m      1\u001b[0m \u001b[0;31m# So what happens when we try?\u001b[0m\u001b[0;34m\u001b[0m\u001b[0;34m\u001b[0m\u001b[0m\n\u001b[0;32m----> 2\u001b[0;31m \u001b[0mmy_tuple\u001b[0m\u001b[0;34m[\u001b[0m\u001b[0;36m0\u001b[0m\u001b[0;34m]\u001b[0m \u001b[0;34m=\u001b[0m \u001b[0;34m'Alisa'\u001b[0m\u001b[0;34m\u001b[0m\u001b[0m\n\u001b[0m",
      "\u001b[0;31mTypeError\u001b[0m: 'tuple' object does not support item assignment"
     ]
    }
   ],
   "source": [
    "# So what happens when we try?\n",
    "my_tuple[0] = 'Alisa'"
   ]
  },
  {
   "cell_type": "code",
   "execution_count": 8,
   "metadata": {
    "collapsed": false
   },
   "outputs": [
    {
     "name": "stdout",
     "output_type": "stream",
     "text": [
      "('Ed', 38)\n",
      "person(name='Ed', age=38)\n",
      "Ed\n",
      "Ed\n"
     ]
    }
   ],
   "source": [
    "# Namedtuples\n",
    "# Notice above we did my_tuple[0], my_tuple[1]? \n",
    "\n",
    "# ...ugly, right?\n",
    "# How about this?\n",
    "my_tuple = ('Ed', 38)\n",
    "print(my_tuple)\n",
    "from collections import namedtuple\n",
    "person = namedtuple('person', 'name, age')\n",
    "\n",
    "# We'll just say that the other two tuples are \"person\" tuples...\n",
    "my_tuple = person(my_tuple[0], my_tuple[1])\n",
    "print(my_tuple)\n",
    "\n",
    "print(my_tuple.name)\n",
    "print(my_tuple[0])"
   ]
  },
  {
   "cell_type": "code",
   "execution_count": 18,
   "metadata": {
    "collapsed": false
   },
   "outputs": [
    {
     "name": "stdout",
     "output_type": "stream",
     "text": [
      "person(name='Emily', age=6)\n",
      "My name is Emily and I am 6 years old.\n"
     ]
    }
   ],
   "source": [
    "# You can also use the \"positional expansion\" operator if you want, and get the same thing.\n",
    "p = ('Emily', 6)\n",
    "emily = person(*p)  # all *p does here is expand p to (p[0], p[1])\n",
    "print(emily)\n",
    "\n",
    "\n",
    "def print_name(p):\n",
    "    print(\"My name is {0.name} and I am {0.age} years old.\".format(p))\n",
    "\n",
    "print_name(emily)"
   ]
  },
  {
   "cell_type": "markdown",
   "metadata": {},
   "source": [
    "# Lists"
   ]
  },
  {
   "cell_type": "code",
   "execution_count": 25,
   "metadata": {
    "collapsed": false
   },
   "outputs": [
    {
     "name": "stdout",
     "output_type": "stream",
     "text": [
      "[1, 2, 3]\n"
     ]
    }
   ],
   "source": [
    "mylist = [1, 2, 3]\n",
    "print(mylist)"
   ]
  },
  {
   "cell_type": "code",
   "execution_count": 20,
   "metadata": {
    "collapsed": false
   },
   "outputs": [
    {
     "name": "stdout",
     "output_type": "stream",
     "text": [
      "Sum is: 6.\n",
      "True\n",
      "False\n"
     ]
    }
   ],
   "source": [
    "# There are lots of built-in methods that operate on lists\n",
    "print(\"Sum is: {}.\".format(sum(mylist)))\n",
    "\n",
    "# You can see if something is \"in\" a list just by using the \"in\" operator.\n",
    "print(3 in mylist)\n",
    "print(4 in mylist)"
   ]
  },
  {
   "cell_type": "code",
   "execution_count": 21,
   "metadata": {
    "collapsed": false
   },
   "outputs": [
    {
     "name": "stdout",
     "output_type": "stream",
     "text": [
      "True\n",
      "False\n",
      "True\n"
     ]
    }
   ],
   "source": [
    "# this works for lists of strings too, or strings themselves...\n",
    "print('ed' in 'education')\n",
    "print('ed' in 'foo')\n",
    "print('ed' in ['ed', 'alisa', 'emily'])"
   ]
  },
  {
   "cell_type": "code",
   "execution_count": 22,
   "metadata": {
    "collapsed": false
   },
   "outputs": [
    {
     "name": "stdout",
     "output_type": "stream",
     "text": [
      "['E', 'd', 'w', 'a', 'r', 'd']\n"
     ]
    }
   ],
   "source": [
    "# sometimes this gets a little wierd...\n",
    "my_name = 'Edward'\n",
    "print(list(my_name))"
   ]
  },
  {
   "cell_type": "code",
   "execution_count": 35,
   "metadata": {
    "collapsed": false
   },
   "outputs": [
    {
     "name": "stdout",
     "output_type": "stream",
     "text": [
      "4394875080\n",
      "4394911496\n",
      "[2, 3, 3, 4, 4, 5]\n",
      "in place sort\n",
      "4394911496\n",
      "4394911496\n"
     ]
    }
   ],
   "source": [
    "# you can flip lists around\n",
    "mylist = [4,3,4,5,2,3]\n",
    "print(id(mylist))\n",
    "mylist = sorted(mylist)  #< ---- Generates a *new* list.\n",
    "print(id(mylist))\n",
    "print(mylist)\n",
    "\n",
    "print(\"in place sort\")\n",
    "print(id(mylist))\n",
    "mylist.sort()\n",
    "print(id(mylist))"
   ]
  },
  {
   "cell_type": "code",
   "execution_count": 43,
   "metadata": {
    "collapsed": false
   },
   "outputs": [
    {
     "name": "stdout",
     "output_type": "stream",
     "text": [
      "['E', 'd', 'w', 'a', 'r', 'd']\n",
      "['d', 'r', 'a', 'w', 'd', 'E']\n",
      "a\tb\tc\n",
      "'a\\tb\\tc'\n",
      "drawdE\n"
     ]
    }
   ],
   "source": [
    "# this also works for strings, provided you convert it to a list first, then back...\n",
    "my_name = 'Edward'\n",
    "my_list_name = list(my_name)\n",
    "print(my_list_name)\n",
    "my_list_name.reverse()  # <---- NOTE:  This is an \"in place\" reversal.  No new variable is created.\n",
    "print(my_list_name)\n",
    "my_reversed_name = ''.join(my_list_name)\n",
    "print('\\t'.join(['a','b','c']) + '\\n')\n",
    "print(repr('\\t'.join(['a','b','c'])))\n",
    "print(my_reversed_name)"
   ]
  },
  {
   "cell_type": "code",
   "execution_count": 44,
   "metadata": {
    "collapsed": false
   },
   "outputs": [
    {
     "name": "stdout",
     "output_type": "stream",
     "text": [
      "[2, 3, 3, 4, 4, 5]\n"
     ]
    }
   ],
   "source": [
    "# you can sort lists\n",
    "mylist.sort()\n",
    "print(mylist)"
   ]
  },
  {
   "cell_type": "code",
   "execution_count": 45,
   "metadata": {
    "collapsed": false
   },
   "outputs": [
    {
     "name": "stdout",
     "output_type": "stream",
     "text": [
      "[5, 4, 4, 3, 3, 2]\n"
     ]
    }
   ],
   "source": [
    "# you can sort the lists reversed\n",
    "mylist.sort(reverse=True)\n",
    "print(mylist)"
   ]
  },
  {
   "cell_type": "code",
   "execution_count": 46,
   "metadata": {
    "collapsed": false
   },
   "outputs": [
    {
     "name": "stdout",
     "output_type": "stream",
     "text": [
      "['Ed', 3, <object object at 0x10072d240>, {'This': 'is', 'A': 'dict'}]\n"
     ]
    }
   ],
   "source": [
    "# Unlike some other languages, in Python, lists do not have to be homogenous.\n",
    "# The \"type\" of the object is determined at runtime.\n",
    "mylist = ['Ed', 3, object(), {'This': 'is', 'A': 'dict'}]\n",
    "print(mylist)"
   ]
  },
  {
   "cell_type": "code",
   "execution_count": 47,
   "metadata": {
    "collapsed": false
   },
   "outputs": [
    {
     "ename": "TypeError",
     "evalue": "unsupported operand type(s) for +: 'int' and 'str'",
     "output_type": "error",
     "traceback": [
      "\u001b[0;31m---------------------------------------------------------------------------\u001b[0m",
      "\u001b[0;31mTypeError\u001b[0m                                 Traceback (most recent call last)",
      "\u001b[0;32m<ipython-input-47-822104d9d051>\u001b[0m in \u001b[0;36m<module>\u001b[0;34m()\u001b[0m\n\u001b[1;32m      1\u001b[0m \u001b[0;31m# This means you can get into some trouble at runtime if you're not careful about your lists...\u001b[0m\u001b[0;34m\u001b[0m\u001b[0;34m\u001b[0m\u001b[0m\n\u001b[0;32m----> 2\u001b[0;31m \u001b[0mprint\u001b[0m\u001b[0;34m(\u001b[0m\u001b[0msum\u001b[0m\u001b[0;34m(\u001b[0m\u001b[0mmylist\u001b[0m\u001b[0;34m)\u001b[0m\u001b[0;34m)\u001b[0m\u001b[0;34m\u001b[0m\u001b[0m\n\u001b[0m",
      "\u001b[0;31mTypeError\u001b[0m: unsupported operand type(s) for +: 'int' and 'str'"
     ]
    }
   ],
   "source": [
    "# This means you can get into some trouble at runtime if you're not careful about your lists...\n",
    "print(sum(mylist))"
   ]
  },
  {
   "cell_type": "code",
   "execution_count": 76,
   "metadata": {
    "collapsed": false
   },
   "outputs": [
    {
     "ename": "SyntaxError",
     "evalue": "non-default argument follows default argument (<ipython-input-76-e3c1b1f74773>, line 2)",
     "output_type": "error",
     "traceback": [
      "\u001b[0;36m  File \u001b[0;32m\"<ipython-input-76-e3c1b1f74773>\"\u001b[0;36m, line \u001b[0;32m2\u001b[0m\n\u001b[0;31m    def foo(name='default', hometown='default', age):\u001b[0m\n\u001b[0m           ^\u001b[0m\n\u001b[0;31mSyntaxError\u001b[0m\u001b[0;31m:\u001b[0m non-default argument follows default argument\n"
     ]
    }
   ],
   "source": [
    "foo(...)\n",
    "def foo(name='default', hometown='default', age):\n",
    "    print(\"Name: {} Age: {} Hometown: {}\".format(name, age, hometown))\n",
    "\n",
    "foo(age='38')"
   ]
  },
  {
   "cell_type": "code",
   "execution_count": 79,
   "metadata": {
    "collapsed": false
   },
   "outputs": [
    {
     "name": "stdout",
     "output_type": "stream",
     "text": [
      "3\n"
     ]
    }
   ],
   "source": [
    "print(myvar)"
   ]
  },
  {
   "cell_type": "code",
   "execution_count": 83,
   "metadata": {
    "collapsed": true
   },
   "outputs": [],
   "source": [
    "def foo(a, b):\n",
    "    print(a + b)"
   ]
  },
  {
   "cell_type": "code",
   "execution_count": 85,
   "metadata": {
    "collapsed": true
   },
   "outputs": [],
   "source": [
    "def foo(a, b):\n",
    "    print(\"foo is {} {}\".format(a, b))"
   ]
  },
  {
   "cell_type": "code",
   "execution_count": 86,
   "metadata": {
    "collapsed": false
   },
   "outputs": [
    {
     "name": "stdout",
     "output_type": "stream",
     "text": [
      "foo is 1 2\n"
     ]
    }
   ],
   "source": [
    "foo(1,2)"
   ]
  }
 ],
 "metadata": {
  "kernelspec": {
   "display_name": "Python 3",
   "language": "python",
   "name": "python3"
  },
  "language_info": {
   "codemirror_mode": {
    "name": "ipython",
    "version": 3
   },
   "file_extension": ".py",
   "mimetype": "text/x-python",
   "name": "python",
   "nbconvert_exporter": "python",
   "pygments_lexer": "ipython3",
   "version": "3.5.1"
  }
 },
 "nbformat": 4,
 "nbformat_minor": 0
}
